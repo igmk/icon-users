{
 "cells": [
  {
   "cell_type": "markdown",
   "metadata": {},
   "source": [
    "## Reading ICON Meteogram data directly using xarray"
   ]
  },
  {
   "cell_type": "code",
   "execution_count": 1,
   "metadata": {},
   "outputs": [],
   "source": [
    "# For jupyterlab\n",
    "%matplotlib inline\n",
    "\n",
    "import numpy as np\n",
    "import xarray as xr\n",
    "import seaborn as sns\n",
    "from scipy import stats\n",
    "import matplotlib.pyplot as plt"
   ]
  },
  {
   "cell_type": "code",
   "execution_count": 4,
   "metadata": {},
   "outputs": [],
   "source": [
    "# for jupyter notebook\n",
    "%matplotlib notebook"
   ]
  },
  {
   "cell_type": "markdown",
   "metadata": {},
   "source": [
    "## What to do\n",
    "\n",
    "The actual values are all given in \"values\". You have to address them with ds[\"values\"] otherwise xarray thinks you want to use the values() method for the dataset.  \n",
    "\n",
    "* First dimension of values: time  \n",
    "* Second : level   \n",
    "* Third : variable\n",
    "* Fourth : station (here only 1 station)"
   ]
  },
  {
   "cell_type": "code",
   "execution_count": 2,
   "metadata": {},
   "outputs": [],
   "source": [
    "year = \"2020\"\n",
    "month = \"09\"\n",
    "day = \"01\"\n",
    "\n",
    "icon_path = \"/data/inscape/icon/experiments/nyalesund/testbed/\"+year+month+day+\"_r600m_f2km/\"\n",
    "\n",
    "# Read in Meteogram\n",
    "ds_icon = xr.open_dataset(icon_path+\"METEOGRAM_patch001.nc\")"
   ]
  },
  {
   "cell_type": "code",
   "execution_count": 3,
   "metadata": {},
   "outputs": [],
   "source": [
    "# Selecting a variable (here pressure) \n",
    "pres = ds_icon[\"values\"][:,:,0] # last one is the "
   ]
  },
  {
   "cell_type": "code",
   "execution_count": 4,
   "metadata": {},
   "outputs": [
    {
     "data": {
      "text/plain": [
       "array([b'P', b'T', b'PEXNER', b'RHO', b'THETAV', b'U', b'V', b'W', b'TKE',\n",
       "       b'QV', b'QC', b'QI', b'QR', b'QS', b'REL_HUM', b'QG', b'QH',\n",
       "       b'QNI', b'QNS', b'QNR', b'QNG', b'QNH', b'QNC', b'NIACT',\n",
       "       b'QV_DIA', b'QC_DIA', b'QI_DIA', b'CLC', b'TKVM', b'TKVH',\n",
       "       b'PHALF', b'T_SO', b'W_SO', b'W_SO_ICE'], dtype='|S128')"
      ]
     },
     "execution_count": 4,
     "metadata": {},
     "output_type": "execute_result"
    }
   ],
   "source": [
    "# Variables\n",
    "ds_icon.var_name.values"
   ]
  },
  {
   "cell_type": "code",
   "execution_count": 5,
   "metadata": {},
   "outputs": [],
   "source": [
    "# All time steps for specific level\n",
    "pres_sfc = pres[:,-2]\n",
    "# All levels for specific time\n",
    "pres_single_step = pres[0,:]"
   ]
  },
  {
   "cell_type": "code",
   "execution_count": 7,
   "metadata": {},
   "outputs": [
    {
     "data": {
      "text/plain": [
       "Text(0, 0.5, 'hPa')"
      ]
     },
     "execution_count": 7,
     "metadata": {},
     "output_type": "execute_result"
    },
    {
     "data": {
      "image/png": "[encoded data removed]",
      "text/plain": [
       "<Figure size 432x288 with 1 Axes>"
      ]
     },
     "metadata": {},
     "output_type": "display_data"
    }
   ],
   "source": [
    "sns.set_style(\"whitegrid\")\n",
    "\n",
    "fig = plt.figure()\n",
    "plt.plot(pres_sfc.values[:,0])\n",
    "plt.title(\"Pressure\")\n",
    "plt.xlabel(\"Timestep\")\n",
    "plt.ylabel(\"hPa\")"
   ]
  }
 ],
 "metadata": {
  "kernelspec": {
   "display_name": "Python 3",
   "language": "python",
   "name": "python3"
  },
  "language_info": {
   "codemirror_mode": {
    "name": "ipython",
    "version": 3
   },
   "file_extension": ".py",
   "mimetype": "text/x-python",
   "name": "python",
   "nbconvert_exporter": "python",
   "pygments_lexer": "ipython3",
   "version": "3.7.7"
  }
 },
 "nbformat": 4,
 "nbformat_minor": 4
}
